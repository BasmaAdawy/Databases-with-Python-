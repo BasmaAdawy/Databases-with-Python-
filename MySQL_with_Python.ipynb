{
 "cells": [
  {
   "cell_type": "markdown",
   "id": "d4fd6dd4",
   "metadata": {},
   "source": [
    "# Installing MySQL Connector"
   ]
  },
  {
   "cell_type": "code",
   "execution_count": 1,
   "id": "2ba740de",
   "metadata": {},
   "outputs": [
    {
     "name": "stdout",
     "output_type": "stream",
     "text": [
      "Collecting mysql-connector-python\n",
      "  Downloading mysql_connector_python-8.0.28-cp39-cp39-win_amd64.whl (7.2 MB)\n",
      "Collecting protobuf>=3.0.0\n",
      "  Downloading protobuf-3.19.4-cp39-cp39-win_amd64.whl (895 kB)\n",
      "Installing collected packages: protobuf, mysql-connector-python\n",
      "Successfully installed mysql-connector-python-8.0.28 protobuf-3.19.4\n"
     ]
    }
   ],
   "source": [
    "!python -m pip install mysql-connector-python"
   ]
  },
  {
   "cell_type": "code",
   "execution_count": 2,
   "id": "b0e8a0dd",
   "metadata": {},
   "outputs": [],
   "source": [
    "import mysql.connector"
   ]
  },
  {
   "cell_type": "code",
   "execution_count": 4,
   "id": "b37f27f0",
   "metadata": {},
   "outputs": [
    {
     "name": "stdout",
     "output_type": "stream",
     "text": [
      "<mysql.connector.connection_cext.CMySQLConnection object at 0x000001F8C0DED3A0>\n"
     ]
    }
   ],
   "source": [
    "new_db = mysql.connector.connect(\n",
    "    host = \"localhost\",\n",
    "    user = \"root\",\n",
    "    password = \"root\"\n",
    ")\n",
    "\n",
    "print(new_db)"
   ]
  },
  {
   "cell_type": "markdown",
   "id": "17186854",
   "metadata": {},
   "source": [
    "# Creating A Database"
   ]
  },
  {
   "cell_type": "code",
   "execution_count": 1,
   "id": "5cf5bcff",
   "metadata": {},
   "outputs": [],
   "source": [
    "import mysql.connector\n",
    "\n",
    "new_db = mysql.connector.connect(\n",
    "    host = \"localhost\",\n",
    "    user = \"root\",\n",
    "    password = \"root\"\n",
    ")\n",
    "\n",
    "new_cursor = new_db.cursor()\n",
    "\n",
    "new_cursor.execute(\"CREATE DATABASE newData\")"
   ]
  },
  {
   "cell_type": "markdown",
   "id": "94fe568f",
   "metadata": {},
   "source": [
    "# Check if a database exists"
   ]
  },
  {
   "cell_type": "code",
   "execution_count": 3,
   "id": "99409ab5",
   "metadata": {},
   "outputs": [
    {
     "name": "stdout",
     "output_type": "stream",
     "text": [
      "('information_schema',)\n",
      "('mysql',)\n",
      "('newdata',)\n",
      "('performance_schema',)\n",
      "('sakila',)\n",
      "('sys',)\n",
      "('world',)\n"
     ]
    }
   ],
   "source": [
    "import mysql.connector\n",
    "\n",
    "new_db = mysql.connector.connect(\n",
    "    host = \"localhost\",\n",
    "    user = \"root\",\n",
    "    password = \"root\"\n",
    ")\n",
    "\n",
    "new_cursor = new_db.cursor()\n",
    "\n",
    "new_cursor.execute(\"SHOW DATABASES\")\n",
    "\n",
    "for n in new_cursor:\n",
    "    print(n)"
   ]
  },
  {
   "cell_type": "markdown",
   "id": "51d20e1f",
   "metadata": {},
   "source": [
    "# Creating Tables and Showing Data"
   ]
  },
  {
   "cell_type": "code",
   "execution_count": 4,
   "id": "0eae5ec3",
   "metadata": {},
   "outputs": [],
   "source": [
    "import mysql.connector\n",
    "\n",
    "new_db = mysql.connector.connect(\n",
    "    host = \"localhost\",\n",
    "    user = \"root\",\n",
    "    password = \"root\",\n",
    "    database = \"newdata\"\n",
    ")\n",
    "\n",
    "new_cursor = new_db.cursor()\n",
    "\n",
    "new_cursor.execute(\"CREATE TABLE students (name VARCHAR(255), code VARCHAR(255))\")"
   ]
  },
  {
   "cell_type": "markdown",
   "id": "48e96fcd",
   "metadata": {},
   "source": [
    "# List all tables in newdata database"
   ]
  },
  {
   "cell_type": "code",
   "execution_count": 5,
   "id": "80192b5b",
   "metadata": {},
   "outputs": [
    {
     "name": "stdout",
     "output_type": "stream",
     "text": [
      "('students',)\n"
     ]
    }
   ],
   "source": [
    "import mysql.connector\n",
    "\n",
    "new_db = mysql.connector.connect(\n",
    "    host = \"localhost\",\n",
    "    user = \"root\",\n",
    "    password = \"root\",\n",
    "    database = \"newdata\"\n",
    ")\n",
    "\n",
    "new_cursor = new_db.cursor()\n",
    "\n",
    "new_cursor.execute(\"SHOW TABLES\")\n",
    "\n",
    "for x in new_cursor:\n",
    "    print(x)"
   ]
  },
  {
   "cell_type": "markdown",
   "id": "b2c74e1a",
   "metadata": {},
   "source": [
    "# Add PRIMARY KEY when creating table"
   ]
  },
  {
   "cell_type": "code",
   "execution_count": 6,
   "id": "23a32272",
   "metadata": {},
   "outputs": [],
   "source": [
    "import mysql.connector\n",
    "\n",
    "new_db = mysql.connector.connect(\n",
    "    host = \"localhost\",\n",
    "    user = \"root\",\n",
    "    password = \"root\",\n",
    "    database = \"newdata\"\n",
    ")\n",
    "\n",
    "new_cursor = new_db.cursor()\n",
    "\n",
    "new_cursor.execute(\"CREATE TABLE clients (id INT AUTO_INCREMENT PRIMARY KEY, name VARCHAR(255), code VARCHAR(255))\")"
   ]
  },
  {
   "cell_type": "markdown",
   "id": "4df33595",
   "metadata": {},
   "source": [
    "# Add PRIMARY KEY if table already exists"
   ]
  },
  {
   "cell_type": "code",
   "execution_count": 7,
   "id": "d2b84505",
   "metadata": {},
   "outputs": [],
   "source": [
    "import mysql.connector\n",
    "\n",
    "new_db = mysql.connector.connect(\n",
    "    host = \"localhost\",\n",
    "    user = \"root\",\n",
    "    password = \"root\",\n",
    "    database = \"newdata\"\n",
    ")\n",
    "\n",
    "new_cursor = new_db.cursor()\n",
    "\n",
    "new_cursor.execute(\"ALTER TABLE students ADD COLUMN id INT AUTO_INCREMENT PRIMARY KEY\")"
   ]
  },
  {
   "cell_type": "markdown",
   "id": "4f633e4e",
   "metadata": {},
   "source": [
    "# Inserting data into tables"
   ]
  },
  {
   "cell_type": "code",
   "execution_count": 8,
   "id": "397a20e5",
   "metadata": {},
   "outputs": [
    {
     "name": "stdout",
     "output_type": "stream",
     "text": [
      "1 new record inserted\n"
     ]
    }
   ],
   "source": [
    "import mysql.connector\n",
    "\n",
    "new_db = mysql.connector.connect(\n",
    "    host = \"localhost\",\n",
    "    user = \"root\",\n",
    "    password = \"root\",\n",
    "    database = \"newdata\"\n",
    ")\n",
    "\n",
    "new_cursor = new_db.cursor()\n",
    "\n",
    "new_sql = \"INSERT INTO students (name, code) VALUES (%s, %s)\"                   # %s is a place holder\n",
    "new_vals = (\"Basma\", \"CODE5\")\n",
    "\n",
    "new_cursor.execute(new_sql, new_vals)\n",
    "\n",
    "new_db.commit()\n",
    "\n",
    "print(new_cursor.rowcount, \"new record inserted\")"
   ]
  },
  {
   "cell_type": "markdown",
   "id": "fc4b116b",
   "metadata": {},
   "source": [
    "# Inserting many records into tables"
   ]
  },
  {
   "cell_type": "code",
   "execution_count": 9,
   "id": "31e9b699",
   "metadata": {},
   "outputs": [
    {
     "name": "stdout",
     "output_type": "stream",
     "text": [
      "4 records inserted\n"
     ]
    }
   ],
   "source": [
    "import mysql.connector\n",
    "\n",
    "new_db = mysql.connector.connect(\n",
    "    host = \"localhost\",\n",
    "    user = \"root\",\n",
    "    password = \"root\",\n",
    "    database = \"newdata\"\n",
    ")\n",
    "\n",
    "new_cursor = new_db.cursor()\n",
    "\n",
    "new_sql = \"INSERT INTO students (name, code) VALUES (%s, %s)\"\n",
    "new_vals = [\n",
    "    (\"Ahmed\", \"CODE30\"),\n",
    "    (\"Basant\", \"CODE06\"),\n",
    "    (\"Bassem\", \"CODE11\"),\n",
    "    (\"Someone\", \"CODE110\")\n",
    "]\n",
    "\n",
    "new_cursor.executemany(new_sql, new_vals)\n",
    "\n",
    "new_db.commit()\n",
    "\n",
    "print(new_cursor.rowcount, \"records inserted\")"
   ]
  },
  {
   "cell_type": "markdown",
   "id": "cd62a889",
   "metadata": {},
   "source": [
    "# Select Table's data"
   ]
  },
  {
   "cell_type": "code",
   "execution_count": 11,
   "id": "88cbb0c4",
   "metadata": {},
   "outputs": [
    {
     "name": "stdout",
     "output_type": "stream",
     "text": [
      "('Basma', 'CODE5', 1)\n",
      "('Ahmed', 'CODE30', 2)\n",
      "('Basant', 'CODE06', 3)\n",
      "('Bassem', 'CODE11', 4)\n",
      "('Someone', 'CODE110', 5)\n"
     ]
    }
   ],
   "source": [
    "import mysql.connector\n",
    "\n",
    "new_db = mysql.connector.connect(\n",
    "    host = \"localhost\",\n",
    "    user = \"root\",\n",
    "    password = \"root\",\n",
    "    database = \"newdata\"\n",
    ")\n",
    "\n",
    "new_cursor = new_db.cursor()\n",
    "\n",
    "new_cursor.execute(\"SELECT * FROM students\")\n",
    "\n",
    "new_data = new_cursor.fetchall()\n",
    "\n",
    "for x in new_data:\n",
    "    print(x)"
   ]
  },
  {
   "cell_type": "markdown",
   "id": "f905ecd5",
   "metadata": {},
   "source": [
    "# Select data from columns"
   ]
  },
  {
   "cell_type": "code",
   "execution_count": 12,
   "id": "96f5f646",
   "metadata": {},
   "outputs": [
    {
     "name": "stdout",
     "output_type": "stream",
     "text": [
      "('Basma',)\n",
      "('Ahmed',)\n",
      "('Basant',)\n",
      "('Bassem',)\n",
      "('Someone',)\n"
     ]
    }
   ],
   "source": [
    "import mysql.connector\n",
    "\n",
    "new_db = mysql.connector.connect(\n",
    "    host = \"localhost\",\n",
    "    user = \"root\",\n",
    "    password = \"root\",\n",
    "    database = \"newdata\"\n",
    ")\n",
    "\n",
    "new_cursor = new_db.cursor()\n",
    "\n",
    "new_cursor.execute(\"SELECT name FROM students\")\n",
    "\n",
    "new_data = new_cursor.fetchall()\n",
    "\n",
    "for x in new_data:\n",
    "    print(x)"
   ]
  },
  {
   "cell_type": "code",
   "execution_count": 13,
   "id": "1eabd264",
   "metadata": {},
   "outputs": [
    {
     "name": "stdout",
     "output_type": "stream",
     "text": [
      "('Basma', 'CODE5', 1)\n"
     ]
    }
   ],
   "source": [
    "import mysql.connector\n",
    "\n",
    "new_db = mysql.connector.connect(\n",
    "    host = \"localhost\",\n",
    "    user = \"root\",\n",
    "    password = \"root\",\n",
    "    database = \"newdata\"\n",
    ")\n",
    "\n",
    "new_cursor = new_db.cursor()\n",
    "\n",
    "new_cursor.execute(\"SELECT * FROM students\")\n",
    "\n",
    "new_data = new_cursor.fetchone()\n",
    "\n",
    "print(new_data)"
   ]
  },
  {
   "cell_type": "markdown",
   "id": "abb8c340",
   "metadata": {},
   "source": [
    "# Filter the result"
   ]
  },
  {
   "cell_type": "code",
   "execution_count": 15,
   "id": "5e66aa0a",
   "metadata": {},
   "outputs": [
    {
     "name": "stdout",
     "output_type": "stream",
     "text": [
      "('Basma', 'CODE5', 1)\n"
     ]
    }
   ],
   "source": [
    "import mysql.connector\n",
    "\n",
    "new_db = mysql.connector.connect(\n",
    "    host = \"localhost\",\n",
    "    user = \"root\",\n",
    "    password = \"root\",\n",
    "    database = \"newdata\"\n",
    ")\n",
    "\n",
    "new_cursor = new_db.cursor()\n",
    "\n",
    "new_sql = \"SELECT * FROM students WHERE code = 'CODE5'\"\n",
    "\n",
    "new_cursor.execute(new_sql)\n",
    "\n",
    "new_data = new_cursor.fetchall()\n",
    "\n",
    "for x in new_data:\n",
    "    print(x)"
   ]
  },
  {
   "cell_type": "code",
   "execution_count": 18,
   "id": "ba126eb3",
   "metadata": {},
   "outputs": [
    {
     "name": "stdout",
     "output_type": "stream",
     "text": [
      "('Basma', 'CODE5', 1)\n"
     ]
    }
   ],
   "source": [
    "import mysql.connector\n",
    "\n",
    "new_db = mysql.connector.connect(\n",
    "    host = \"localhost\",\n",
    "    user = \"root\",\n",
    "    password = \"root\",\n",
    "    database = \"newdata\"\n",
    ")\n",
    "\n",
    "new_cursor = new_db.cursor()\n",
    "\n",
    "new_sql = \"SELECT * FROM students WHERE name LIKE '%basma%'\"\n",
    "\n",
    "new_cursor.execute(new_sql)\n",
    "\n",
    "new_data = new_cursor.fetchall()\n",
    "\n",
    "for x in new_data:\n",
    "    print(x)"
   ]
  },
  {
   "cell_type": "markdown",
   "id": "af88aa5f",
   "metadata": {},
   "source": [
    "# Sorting results"
   ]
  },
  {
   "cell_type": "code",
   "execution_count": 19,
   "id": "a8280168",
   "metadata": {},
   "outputs": [
    {
     "name": "stdout",
     "output_type": "stream",
     "text": [
      "('Basma', 'CODE5', 1)\n",
      "('Ahmed', 'CODE30', 2)\n",
      "('Someone', 'CODE110', 5)\n",
      "('Bassem', 'CODE11', 4)\n",
      "('Basant', 'CODE06', 3)\n"
     ]
    }
   ],
   "source": [
    "import mysql.connector\n",
    "\n",
    "new_db = mysql.connector.connect(\n",
    "    host = \"localhost\",\n",
    "    user = \"root\",\n",
    "    password = \"root\",\n",
    "    database = \"newdata\"\n",
    ")\n",
    "\n",
    "new_cursor = new_db.cursor()\n",
    "\n",
    "new_sql = \"SELECT * FROM students ORDER BY code DESC\"\n",
    "\n",
    "new_cursor.execute(new_sql)\n",
    "\n",
    "new_data = new_cursor.fetchall()\n",
    "\n",
    "for x in new_data:\n",
    "    print(x)"
   ]
  },
  {
   "cell_type": "markdown",
   "id": "93045de8",
   "metadata": {},
   "source": [
    "# Deleting records"
   ]
  },
  {
   "cell_type": "code",
   "execution_count": 20,
   "id": "0d23e773",
   "metadata": {},
   "outputs": [
    {
     "name": "stdout",
     "output_type": "stream",
     "text": [
      "1 records deleted from students from newdata\n"
     ]
    }
   ],
   "source": [
    "import mysql.connector\n",
    "\n",
    "new_db = mysql.connector.connect(\n",
    "    host = \"localhost\",\n",
    "    user = \"root\",\n",
    "    password = \"root\",\n",
    "    database = \"newdata\"\n",
    ")\n",
    "\n",
    "new_cursor = new_db.cursor()\n",
    "\n",
    "new_sql = \"DELETE FROM students WHERE name = %s\"\n",
    "name = (\"someone\",)\n",
    "\n",
    "new_cursor.execute(new_sql, name)\n",
    "\n",
    "new_db.commit()\n",
    "\n",
    "print(new_cursor.rowcount, \"records deleted from students from newdata\")"
   ]
  },
  {
   "cell_type": "code",
   "execution_count": 21,
   "id": "b382b565",
   "metadata": {},
   "outputs": [
    {
     "name": "stdout",
     "output_type": "stream",
     "text": [
      "('Basma',)\n",
      "('Ahmed',)\n",
      "('Basant',)\n",
      "('Bassem',)\n"
     ]
    }
   ],
   "source": [
    "new_cursor.execute(\"SELECT name FROM students\")\n",
    "\n",
    "new_data = new_cursor.fetchall()\n",
    "\n",
    "for x in new_data:\n",
    "    print(x)"
   ]
  },
  {
   "cell_type": "markdown",
   "id": "c8c222e9",
   "metadata": {},
   "source": [
    "# Deleting table"
   ]
  },
  {
   "cell_type": "code",
   "execution_count": 22,
   "id": "c174b7b2",
   "metadata": {},
   "outputs": [],
   "source": [
    "import mysql.connector\n",
    "\n",
    "new_db = mysql.connector.connect(\n",
    "    host = \"localhost\",\n",
    "    user = \"root\",\n",
    "    password = \"root\",\n",
    "    database = \"newdata\"\n",
    ")\n",
    "\n",
    "new_cursor = new_db.cursor()\n",
    "\n",
    "new_sql = \"DROP TABLE IF EXISTS clients\"\n",
    "\n",
    "new_cursor.execute(new_sql)"
   ]
  },
  {
   "cell_type": "markdown",
   "id": "e222a347",
   "metadata": {},
   "source": [
    "# Updating table"
   ]
  },
  {
   "cell_type": "code",
   "execution_count": 23,
   "id": "d3014445",
   "metadata": {},
   "outputs": [
    {
     "name": "stdout",
     "output_type": "stream",
     "text": [
      "1 records changed in students table!\n"
     ]
    }
   ],
   "source": [
    "import mysql.connector\n",
    "\n",
    "new_db = mysql.connector.connect(\n",
    "    host = \"localhost\",\n",
    "    user = \"root\",\n",
    "    password = \"root\",\n",
    "    database = \"newdata\"\n",
    ")\n",
    "\n",
    "new_cursor = new_db.cursor()\n",
    "\n",
    "new_sql = \"UPDATE students SET code = %s WHERE code = %s\"\n",
    "new_vals = (\"CODE05\", \"CODE5\")\n",
    "\n",
    "new_cursor.execute(new_sql, new_vals)\n",
    "\n",
    "new_db.commit()\n",
    "\n",
    "print(new_cursor.rowcount, \"records changed in students table!\")"
   ]
  },
  {
   "cell_type": "markdown",
   "id": "26287eb2",
   "metadata": {},
   "source": [
    "# Limit the records"
   ]
  },
  {
   "cell_type": "code",
   "execution_count": 27,
   "id": "f5fd786b",
   "metadata": {},
   "outputs": [
    {
     "name": "stdout",
     "output_type": "stream",
     "text": [
      "('Ahmed', 'CODE30', 2)\n",
      "('Basant', 'CODE06', 3)\n",
      "('Bassem', 'CODE11', 4)\n"
     ]
    }
   ],
   "source": [
    "import mysql.connector\n",
    "\n",
    "new_db = mysql.connector.connect(\n",
    "    host = \"localhost\",\n",
    "    user = \"root\",\n",
    "    password = \"root\",\n",
    "    database = \"newdata\"\n",
    ")\n",
    "\n",
    "new_cursor = new_db.cursor()\n",
    "\n",
    "new_sql = \"SELECT * FROM students LIMIT 3 OFFSET 1\"\n",
    "\n",
    "new_cursor.execute(new_sql)\n",
    "\n",
    "new_data = new_cursor.fetchall()\n",
    "\n",
    "for x in new_data:\n",
    "    print(x)"
   ]
  },
  {
   "cell_type": "code",
   "execution_count": null,
   "id": "75b41e1d",
   "metadata": {},
   "outputs": [],
   "source": []
  }
 ],
 "metadata": {
  "kernelspec": {
   "display_name": "Python 3 (ipykernel)",
   "language": "python",
   "name": "python3"
  },
  "language_info": {
   "codemirror_mode": {
    "name": "ipython",
    "version": 3
   },
   "file_extension": ".py",
   "mimetype": "text/x-python",
   "name": "python",
   "nbconvert_exporter": "python",
   "pygments_lexer": "ipython3",
   "version": "3.9.7"
  }
 },
 "nbformat": 4,
 "nbformat_minor": 5
}
